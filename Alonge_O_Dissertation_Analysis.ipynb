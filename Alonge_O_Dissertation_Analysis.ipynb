{
  "nbformat": 4,
  "nbformat_minor": 0,
  "metadata": {
    "colab": {
      "provenance": [],
      "authorship_tag": "ABX9TyNfvOekeKemrLAHYw0DDIOI",
      "include_colab_link": true
    },
    "kernelspec": {
      "name": "python3",
      "display_name": "Python 3"
    },
    "language_info": {
      "name": "python"
    }
  },
  "cells": [
    {
      "cell_type": "markdown",
      "metadata": {
        "id": "view-in-github",
        "colab_type": "text"
      },
      "source": [
        "<a href=\"https://colab.research.google.com/github/nifemi-alonge/evcs_spatial_analysis/blob/main/Alonge_O_Dissertation_Analysis.ipynb\" target=\"_parent\"><img src=\"https://colab.research.google.com/assets/colab-badge.svg\" alt=\"Open In Colab\"/></a>"
      ]
    },
    {
      "cell_type": "markdown",
      "source": [
        "# Analysis of EV charging inequity in London"
      ],
      "metadata": {
        "id": "l8NiFfOwTm4c"
      }
    },
    {
      "cell_type": "code",
      "source": [
        "# type of analysis\n",
        "# chi square\n",
        "# pearsons correlation\n",
        "# morans eye\n",
        "# gwr\n",
        "# spatial lag and error models\n",
        "# regression on survey data not spatial - binary logistic regression with stepwise forward inclusion of the independent variables"
      ],
      "metadata": {
        "id": "7N47KgiEYodf"
      },
      "execution_count": null,
      "outputs": []
    },
    {
      "cell_type": "markdown",
      "source": [
        "## Packages"
      ],
      "metadata": {
        "id": "gFgrsq7kTAx9"
      }
    },
    {
      "cell_type": "code",
      "source": [
        "!pip install arcgis"
      ],
      "metadata": {
        "colab": {
          "base_uri": "https://localhost:8080/"
        },
        "id": "aEmpPsbaTE4H",
        "outputId": "14112b9a-70eb-4a75-8a3d-5400dbbc3bb5"
      },
      "execution_count": null,
      "outputs": [
        {
          "output_type": "stream",
          "name": "stdout",
          "text": [
            "Collecting arcgis\n",
            "  Downloading arcgis-2.0.0.tar.gz (3.7 MB)\n",
            "\u001b[2K     \u001b[90m━━━━━━━━━━━━━━━━━━━━━━━━━━━━━━━━━━━━━━━━\u001b[0m \u001b[32m3.7/3.7 MB\u001b[0m \u001b[31m33.6 MB/s\u001b[0m eta \u001b[36m0:00:00\u001b[0m\n",
            "\u001b[?25h  \u001b[1;31merror\u001b[0m: \u001b[1msubprocess-exited-with-error\u001b[0m\n",
            "  \n",
            "  \u001b[31m×\u001b[0m \u001b[32mpython setup.py egg_info\u001b[0m did not run successfully.\n",
            "  \u001b[31m│\u001b[0m exit code: \u001b[1;36m1\u001b[0m\n",
            "  \u001b[31m╰─>\u001b[0m See above for output.\n",
            "  \n",
            "  \u001b[1;35mnote\u001b[0m: This error originates from a subprocess, and is likely not a problem with pip.\n",
            "  Preparing metadata (setup.py) ... \u001b[?25l\u001b[?25herror\n",
            "\u001b[1;31merror\u001b[0m: \u001b[1mmetadata-generation-failed\u001b[0m\n",
            "\n",
            "\u001b[31m×\u001b[0m Encountered error while generating package metadata.\n",
            "\u001b[31m╰─>\u001b[0m See above for output.\n",
            "\n",
            "\u001b[1;35mnote\u001b[0m: This is an issue with the package mentioned above, not pip.\n",
            "\u001b[1;36mhint\u001b[0m: See above for details.\n"
          ]
        }
      ]
    },
    {
      "cell_type": "code",
      "source": [
        "import pandas as pd"
      ],
      "metadata": {
        "id": "iRUWBy6UTU6k"
      },
      "execution_count": null,
      "outputs": []
    },
    {
      "cell_type": "markdown",
      "source": [
        "## Loading in Data"
      ],
      "metadata": {
        "id": "byJBwKfRTo0O"
      }
    },
    {
      "cell_type": "markdown",
      "source": [
        "### NCR"
      ],
      "metadata": {
        "id": "1v3jYc0fbeAA"
      }
    },
    {
      "cell_type": "code",
      "source": [],
      "metadata": {
        "id": "2OzgV7suTqBP"
      },
      "execution_count": null,
      "outputs": []
    },
    {
      "cell_type": "markdown",
      "source": [
        "### Census Variables"
      ],
      "metadata": {
        "id": "DFt6W25HbiVc"
      }
    },
    {
      "cell_type": "code",
      "source": [],
      "metadata": {
        "id": "0lalOYBebih8"
      },
      "execution_count": null,
      "outputs": []
    },
    {
      "cell_type": "markdown",
      "source": [
        "### UKPN Data"
      ],
      "metadata": {
        "id": "mkST_LfKbm2A"
      }
    },
    {
      "cell_type": "code",
      "source": [],
      "metadata": {
        "id": "YcKTg-mfbm7U"
      },
      "execution_count": null,
      "outputs": []
    },
    {
      "cell_type": "markdown",
      "source": [
        "## Normalise data"
      ],
      "metadata": {
        "id": "0THW-dhFveEG"
      }
    },
    {
      "cell_type": "code",
      "source": [
        "#e.g. per thousand"
      ],
      "metadata": {
        "id": "RiFeZTIcvgFA"
      },
      "execution_count": null,
      "outputs": []
    },
    {
      "cell_type": "markdown",
      "source": [
        "## Data Wrangling"
      ],
      "metadata": {
        "id": "RYPkFhhZbtIW"
      }
    },
    {
      "cell_type": "code",
      "source": [],
      "metadata": {
        "id": "odg0EZLGbtOi"
      },
      "execution_count": null,
      "outputs": []
    },
    {
      "cell_type": "markdown",
      "source": [
        "## Spatial Join"
      ],
      "metadata": {
        "id": "mwKGqCjWvlTQ"
      }
    },
    {
      "cell_type": "code",
      "source": [],
      "metadata": {
        "id": "JkV6ZtfKvnP_"
      },
      "execution_count": null,
      "outputs": []
    },
    {
      "cell_type": "markdown",
      "source": [
        "## Descriptive Statistics"
      ],
      "metadata": {
        "id": "ioWOgIs-rQjD"
      }
    },
    {
      "cell_type": "code",
      "execution_count": null,
      "metadata": {
        "id": "iEC03JELTigx"
      },
      "outputs": [],
      "source": []
    },
    {
      "cell_type": "markdown",
      "source": [],
      "metadata": {
        "id": "YZ24FzW6TqJO"
      }
    },
    {
      "cell_type": "code",
      "source": [],
      "metadata": {
        "id": "kzCmAtT7TqO7"
      },
      "execution_count": null,
      "outputs": []
    },
    {
      "cell_type": "markdown",
      "source": [],
      "metadata": {
        "id": "7ejr4AXOTqUf"
      }
    },
    {
      "cell_type": "code",
      "source": [],
      "metadata": {
        "id": "SejZsSRhTqZ6"
      },
      "execution_count": null,
      "outputs": []
    },
    {
      "cell_type": "markdown",
      "source": [],
      "metadata": {
        "id": "6ebX92OyTqe3"
      }
    },
    {
      "cell_type": "code",
      "source": [],
      "metadata": {
        "id": "5XlApDouTqkF"
      },
      "execution_count": null,
      "outputs": []
    },
    {
      "cell_type": "markdown",
      "source": [
        "## Assumption testing"
      ],
      "metadata": {
        "id": "SdadVeD_b8at"
      }
    },
    {
      "cell_type": "code",
      "source": [
        "# Check for multicollinearity between the variables"
      ],
      "metadata": {
        "id": "F8Lp10gVb7g9"
      },
      "execution_count": null,
      "outputs": []
    },
    {
      "cell_type": "markdown",
      "source": [
        "## Regression"
      ],
      "metadata": {
        "id": "0Hx9HCtQb0CJ"
      }
    },
    {
      "cell_type": "code",
      "source": [],
      "metadata": {
        "id": "uSdWqY_5b0Gu"
      },
      "execution_count": null,
      "outputs": []
    },
    {
      "cell_type": "markdown",
      "source": [
        "NOTES\n",
        "\n"
      ],
      "metadata": {
        "id": "JH0-YGwBTqpH"
      }
    },
    {
      "cell_type": "markdown",
      "source": [
        "## References"
      ],
      "metadata": {
        "id": "wj67LQPlcEK7"
      }
    },
    {
      "cell_type": "markdown",
      "source": [
        "xxx"
      ],
      "metadata": {
        "id": "jlkNZRyIcIED"
      }
    }
  ]
}